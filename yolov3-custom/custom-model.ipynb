{
 "cells": [
  {
   "cell_type": "code",
   "execution_count": 53,
   "metadata": {},
   "outputs": [
    {
     "name": "stdout",
     "output_type": "stream",
     "text": [
      "[INFO] loading YOLO from disk...\n"
     ]
    }
   ],
   "source": [
    "import numpy as np\n",
    "import time\n",
    "import cv2\n",
    "import os\n",
    "\n",
    "import subprocess\n",
    "\n",
    "# load the COCO class labels our YOLO model was trained on\n",
    "LABELS = open(\"coco.names\").read().strip().split(\"\\n\")\n",
    "\n",
    "# load our YOLO object detector trained on COCO dataset (80 classes)\n",
    "print(\"[INFO] loading YOLO from disk...\")\n",
    "net = cv2.dnn.readNetFromDarknet(\"yolov3.cfg\", \"yolov3.weights\")\n",
    "\n",
    "# determine only the *output* layer names that we need from YOLO\n",
    "ln = net.getLayerNames()\n",
    "ln = [ln[i[0] - 1] for i in net.getUnconnectedOutLayers()]\n",
    "\n"
   ]
  },
  {
   "cell_type": "code",
   "execution_count": 54,
   "metadata": {},
   "outputs": [],
   "source": [
    "from sklearn.externals import joblib"
   ]
  },
  {
   "cell_type": "code",
   "execution_count": null,
   "metadata": {},
   "outputs": [],
   "source": []
  },
  {
   "cell_type": "code",
   "execution_count": 18,
   "metadata": {},
   "outputs": [],
   "source": [
    "import imageio\n",
    "from PIL import Image"
   ]
  },
  {
   "cell_type": "code",
   "execution_count": 24,
   "metadata": {},
   "outputs": [
    {
     "name": "stdout",
     "output_type": "stream",
     "text": [
      "(842, 1180, 3)\n"
     ]
    }
   ],
   "source": [
    "im1 = imageio.imread('C:/Users/GAURA/Desktop/Year_project/testing/images/plane.jpg')\n",
    "print(im1.shape)"
   ]
  },
  {
   "cell_type": "code",
   "execution_count": 51,
   "metadata": {},
   "outputs": [],
   "source": [
    "def take_photo(imagepath):\n",
    "    frame = imageio.imread(imagepath)\n",
    "# print(frame.shape)\n",
    "    (H, W) = frame.shape[:2]\n",
    "    blob = cv2.dnn.blobFromImage(frame, 1 / 255.0, (416, 416),\n",
    "    swapRB=True, crop=False)\n",
    "    net.setInput(blob)\n",
    "    layerOutputs = net.forward(ln)\n",
    "\n",
    "\t\t\t# initialize our lists of detected bounding boxes, confidences, and\n",
    "\t\t\t# class IDs, respectively\n",
    "    boxes = []\n",
    "    confidences = []\n",
    "    classIDs = []\n",
    "    centers = []\n",
    "\n",
    "# loop over each of the layer outputs\n",
    "    for output in layerOutputs:\n",
    "\t\t\t# loop over each of the detections\n",
    "        for detection in output:\n",
    "\t# extract the class ID and confidence (i.e., probability) of\n",
    "\t\t\t\t\t# the current object detection\n",
    "            scores = detection[5:]\n",
    "            classID = np.argmax(scores)\n",
    "            confidence = scores[classID]\n",
    "\n",
    "\t\t\t\t\t# filter out weak predictions by ensuring the detected\n",
    "\t\t\t\t\t# probability is greater than the minimum probability\n",
    "                    \n",
    "            if confidence > 0.5:\n",
    "\t\t\t\t\t\t# scale the bounding box coordinates back relative to the\n",
    "\t\t\t\t\t\t# size of the image, keeping in mind that YOLO actually\n",
    "\t\t\t\t\t\t# returns the center (x, y)-coordinates of the bounding\n",
    "\t\t\t\t\t\t# box followed by the boxes' width and height\n",
    "                        box = detection[0:4] * np.array([W, H, W, H])\n",
    "                        (centerX, centerY, width, height) = box.astype(\"int\")\n",
    "\n",
    "\t\t\t\t\t\t# use the center (x, y)-coordinates to derive the top and\n",
    "\t\t\t\t\t\t# and left corner of the bounding box\n",
    "                        x = int(centerX - (width / 2))\n",
    "                        y = int(centerY - (height / 2))\n",
    "\n",
    "\t\t\t\t\t\t# update our list of bounding box coordinates, confidences,\n",
    "\t\t\t\t\t\t# and class IDs\n",
    "                        boxes.append([x, y, int(width), int(height)])\n",
    "                        confidences.append(float(confidence))\n",
    "                        classIDs.append(classID)\n",
    "                        centers.append((centerX, centerY))\n",
    "\n",
    "\t\t\t# apply non-maxima suppression to suppress weak, overlapping bounding\n",
    "\t\t\t# boxes\n",
    "        idxs = cv2.dnn.NMSBoxes(boxes, confidences, 0.5, 0.3)\n",
    "        texts = []\n",
    "\n",
    "\t\t\t# ensure at least one detection exists\n",
    "        if len(idxs) > 0:\n",
    "\t\t\t\t# loop over the indexes we are keeping\n",
    "            for i in idxs.flatten():\n",
    "\t\t\t\t\t# find positions\n",
    "                \n",
    "                centerX, centerY = centers[i][0], centers[i][1]\n",
    "                \n",
    "                if centerX <= W/3:\n",
    "                    W_pos = \"left \"\n",
    "                elif centerX <= (W/3 * 2):\n",
    "                    W_pos = \"center \"\n",
    "                else:\n",
    "                    W_pos = \"right \"\n",
    "\n",
    "                if centerY <= H/3:\n",
    "                    H_pos = \"top\" \n",
    "                elif centerY <= (H/3 * 2):\n",
    "                    H_pos = \"mid \"\n",
    "                else:\n",
    "                    H_pos = \"bottom \"\n",
    "\n",
    "                texts.append(H_pos + W_pos + LABELS[classIDs[i]])\n",
    "\n",
    "    print(texts)\n"
   ]
  },
  {
   "cell_type": "code",
   "execution_count": 52,
   "metadata": {},
   "outputs": [
    {
     "name": "stdout",
     "output_type": "stream",
     "text": [
      "['mid center aeroplane']\n"
     ]
    }
   ],
   "source": [
    "take_photo('C:\\Users\\GAURA\\Desktop\\Year_project\\yolo-master')"
   ]
  },
  {
   "cell_type": "code",
   "execution_count": null,
   "metadata": {},
   "outputs": [],
   "source": []
  }
 ],
 "metadata": {
  "kernelspec": {
   "display_name": "Python 3",
   "language": "python",
   "name": "python3"
  },
  "language_info": {
   "codemirror_mode": {
    "name": "ipython",
    "version": 3
   },
   "file_extension": ".py",
   "mimetype": "text/x-python",
   "name": "python",
   "nbconvert_exporter": "python",
   "pygments_lexer": "ipython3",
   "version": "3.7.1"
  }
 },
 "nbformat": 4,
 "nbformat_minor": 4
}
