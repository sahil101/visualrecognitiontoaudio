{
 "cells": [
  {
   "cell_type": "code",
   "execution_count": 1,
   "metadata": {},
   "outputs": [],
   "source": [
    "import numpy as np\n",
    "import time\n",
    "import cv2\n",
    "import os\n",
    "import subprocess"
   ]
  },
  {
   "cell_type": "code",
   "execution_count": 3,
   "metadata": {},
   "outputs": [
    {
     "name": "stdout",
     "output_type": "stream",
     "text": [
      "[INFO] loading YOLO from disk...\n"
     ]
    }
   ],
   "source": [
    "LABELS = open(\"coco.names\").read().strip().split(\"\\n\")\n",
    "\n",
    "\n",
    "print(\"[INFO] loading YOLO from disk...\")\n",
    "net = cv2.dnn.readNetFromDarknet(\"yolov3.cfg\", \"yolov3.weights\")\n",
    "\n",
    "\n",
    "ln = net.getLayerNames()\n",
    "ln = [ln[i[0] - 1] for i in net.getUnconnectedOutLayers()]"
   ]
  },
  {
   "cell_type": "code",
   "execution_count": 4,
   "metadata": {},
   "outputs": [],
   "source": [
    "import imageio\n",
    "from PIL import Image"
   ]
  },
  {
   "cell_type": "code",
   "execution_count": 11,
   "metadata": {},
   "outputs": [],
   "source": [
    "def take_photo(imagepath):\n",
    "    frame = imageio.imread(imagepath)\n",
    "# print(frame.shape)\n",
    "    (H, W) = frame.shape[:2]\n",
    "#     print(H, W)\n",
    "    blob = cv2.dnn.blobFromImage(frame, 1 / 255.0, (416, 416),\n",
    "    swapRB=True, crop=False)\n",
    "    net.setInput(blob)\n",
    "    layerOutputs = net.forward(ln)\n",
    "\n",
    "\n",
    "    boxes = []\n",
    "    confidences = []\n",
    "    classIDs = []\n",
    "    centers = []\n",
    "\n",
    "# loop over each of the layer outputs\n",
    "    for output in layerOutputs:\n",
    "# loop over each of the detections\n",
    "\n",
    "\n",
    "        for detection in output:\n",
    "\n",
    "\n",
    "            scores = detection[5:]\n",
    "            classID = np.argmax(scores)\n",
    "            confidence = scores[classID]\n",
    "\n",
    "       \n",
    "            if confidence > 0.5:\n",
    "\n",
    "                        box = detection[0:4] * np.array([W, H, W, H])\n",
    "                        (centerX, centerY, width, height) = box.astype(\"int\")\n",
    "\n",
    "\n",
    "                        x = int(centerX - (width / 2))\n",
    "                        y = int(centerY - (height / 2))\n",
    "\n",
    "\n",
    "                        boxes.append([x, y, int(width), int(height)])\n",
    "                        confidences.append(float(confidence))\n",
    "                        classIDs.append(classID)\n",
    "                        centers.append((centerX, centerY))\n",
    "\n",
    "\n",
    "        idxs = cv2.dnn.NMSBoxes(boxes, confidences, 0.5, 0.3)\n",
    "        texts = {}\n",
    "        l = 0\n",
    "\n",
    "#         print(confidences)\n",
    "        if len(idxs) > 0:\n",
    "\n",
    "            for i in idxs.flatten():\n",
    "\n",
    "                \n",
    "                centerX, centerY = centers[i][0], centers[i][1]\n",
    "                if centerX <= W/3:\n",
    "                    W_pos = \"left \"\n",
    "                elif centerX <= (W/3 * 2):\n",
    "                    W_pos = \"center \"\n",
    "                else:\n",
    "                    W_pos = \"right \"\n",
    "\n",
    "                if centerY <= H/3:\n",
    "                    H_pos = \"top\" \n",
    "                elif centerY <= (H/3 * 2):\n",
    "                    H_pos = \"mid \"\n",
    "                else:\n",
    "                    H_pos = \"bottom \"\n",
    "\n",
    "#                 texts.append('H_pos + W_pos + {0} + {1} + {2} + {3} + {4}'.format(LABELS[classIDs[i]],confidences[i], centerX, centerY, boxes[i]))\n",
    "                res = {'height': H_pos, 'width': W_pos, 'label': LABELS[classIDs[i]], 'confidence_score': confidences[i], 'centerX': centerX, 'centerY': centerY, 'box_parameter': boxes[i]}\n",
    "                texts[l] = res\n",
    "                l = l + 1\n",
    "\n",
    "    return (texts)"
   ]
  },
  {
   "cell_type": "code",
   "execution_count": 12,
   "metadata": {},
   "outputs": [
    {
     "data": {
      "text/plain": [
       "{0: {'height': 'mid ',\n",
       "  'width': 'center ',\n",
       "  'label': 'person',\n",
       "  'confidence_score': 0.9993494749069214,\n",
       "  'centerX': 704,\n",
       "  'centerY': 676,\n",
       "  'box_parameter': [241, 198, 925, 956]},\n",
       " 1: {'height': 'top',\n",
       "  'width': 'left ',\n",
       "  'label': 'bird',\n",
       "  'confidence_score': 0.923171877861023,\n",
       "  'centerX': 388,\n",
       "  'centerY': 388,\n",
       "  'box_parameter': [308, 329, 160, 117]},\n",
       " 2: {'height': 'top',\n",
       "  'width': 'center ',\n",
       "  'label': 'bird',\n",
       "  'confidence_score': 0.9153757691383362,\n",
       "  'centerX': 1074,\n",
       "  'centerY': 152,\n",
       "  'box_parameter': [1032, 113, 84, 77]},\n",
       " 3: {'height': 'top',\n",
       "  'width': 'center ',\n",
       "  'label': 'bird',\n",
       "  'confidence_score': 0.8959580659866333,\n",
       "  'centerX': 787,\n",
       "  'centerY': 65,\n",
       "  'box_parameter': [750, 48, 74, 33]},\n",
       " 4: {'height': 'mid ',\n",
       "  'width': 'right ',\n",
       "  'label': 'bird',\n",
       "  'confidence_score': 0.8692618608474731,\n",
       "  'centerX': 1386,\n",
       "  'centerY': 478,\n",
       "  'box_parameter': [1338, 449, 95, 57]},\n",
       " 5: {'height': 'top',\n",
       "  'width': 'right ',\n",
       "  'label': 'bird',\n",
       "  'confidence_score': 0.8052805662155151,\n",
       "  'centerX': 1400,\n",
       "  'centerY': 279,\n",
       "  'box_parameter': [1367, 267, 66, 24]},\n",
       " 6: {'height': 'top',\n",
       "  'width': 'left ',\n",
       "  'label': 'bird',\n",
       "  'confidence_score': 0.7808146476745605,\n",
       "  'centerX': 596,\n",
       "  'centerY': 120,\n",
       "  'box_parameter': [537, 99, 117, 42]},\n",
       " 7: {'height': 'top',\n",
       "  'width': 'left ',\n",
       "  'label': 'bird',\n",
       "  'confidence_score': 0.6380165815353394,\n",
       "  'centerX': 363,\n",
       "  'centerY': 266,\n",
       "  'box_parameter': [321, 236, 84, 60]},\n",
       " 8: {'height': 'top',\n",
       "  'width': 'left ',\n",
       "  'label': 'bird',\n",
       "  'confidence_score': 0.5820684432983398,\n",
       "  'centerX': 572,\n",
       "  'centerY': 387,\n",
       "  'box_parameter': [545, 347, 53, 79]}}"
      ]
     },
     "execution_count": 12,
     "metadata": {},
     "output_type": "execute_result"
    }
   ],
   "source": [
    "take_photo(\"test.jpg\")"
   ]
  },
  {
   "cell_type": "code",
   "execution_count": null,
   "metadata": {},
   "outputs": [],
   "source": []
  }
 ],
 "metadata": {
  "kernelspec": {
   "display_name": "Python 3",
   "language": "python",
   "name": "python3"
  },
  "language_info": {
   "codemirror_mode": {
    "name": "ipython",
    "version": 3
   },
   "file_extension": ".py",
   "mimetype": "text/x-python",
   "name": "python",
   "nbconvert_exporter": "python",
   "pygments_lexer": "ipython3",
   "version": "3.7.1"
  }
 },
 "nbformat": 4,
 "nbformat_minor": 4
}
