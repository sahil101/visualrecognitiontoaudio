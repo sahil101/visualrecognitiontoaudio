{
 "cells": [
  {
   "cell_type": "code",
   "execution_count": 1,
   "metadata": {},
   "outputs": [],
   "source": [
    "import numpy as np\n",
    "import time\n",
    "import cv2\n",
    "import os\n",
    "import subprocess\n"
   ]
  },
  {
   "cell_type": "code",
   "execution_count": 2,
   "metadata": {},
   "outputs": [
    {
     "name": "stdout",
     "output_type": "stream",
     "text": [
      "[INFO] loading YOLO from disk...\n"
     ]
    }
   ],
   "source": [
    "LABELS = open(\"coco.names\").read().strip().split(\"\\n\")\n",
    "\n",
    "\n",
    "print(\"[INFO] loading YOLO from disk...\")\n",
    "net = cv2.dnn.readNetFromDarknet(\"yolov3.cfg\", \"yolov3.weights\")\n",
    "\n",
    "\n",
    "ln = net.getLayerNames()\n",
    "ln = [ln[i[0] - 1] for i in net.getUnconnectedOutLayers()]"
   ]
  },
  {
   "cell_type": "code",
   "execution_count": 3,
   "metadata": {},
   "outputs": [],
   "source": [
    "import imageio\n",
    "from PIL import Image"
   ]
  },
  {
   "cell_type": "code",
   "execution_count": 8,
   "metadata": {},
   "outputs": [],
   "source": [
    "def take_photo(imagepath):\n",
    "    frame = imageio.imread(imagepath)\n",
    "# print(frame.shape)\n",
    "    (H, W) = frame.shape[:2]\n",
    "    blob = cv2.dnn.blobFromImage(frame, 1 / 255.0, (416, 416),\n",
    "    swapRB=True, crop=False)\n",
    "    net.setInput(blob)\n",
    "    layerOutputs = net.forward(ln)\n",
    "\n",
    "\n",
    "    boxes = []\n",
    "    confidences = []\n",
    "    classIDs = []\n",
    "    centers = []\n",
    "\n",
    "# loop over each of the layer outputs\n",
    "    for output in layerOutputs:\n",
    "# loop over each of the detections\n",
    "\n",
    "\n",
    "        for detection in output:\n",
    "\n",
    "\n",
    "            scores = detection[5:]\n",
    "            classID = np.argmax(scores)\n",
    "            confidence = scores[classID]\n",
    "\n",
    "\n",
    "                    \n",
    "            if confidence > 0.5:\n",
    "\n",
    "                        box = detection[0:4] * np.array([W, H, W, H])\n",
    "                        (centerX, centerY, width, height) = box.astype(\"int\")\n",
    "\n",
    "\n",
    "                        x = int(centerX - (width / 2))\n",
    "                        y = int(centerY - (height / 2))\n",
    "\n",
    "\n",
    "                        boxes.append([x, y, int(width), int(height)])\n",
    "                        confidences.append(float(confidence))\n",
    "                        classIDs.append(classID)\n",
    "                        centers.append((centerX, centerY))\n",
    "\n",
    "\n",
    "        idxs = cv2.dnn.NMSBoxes(boxes, confidences, 0.5, 0.3)\n",
    "        texts = []\n",
    "\n",
    "\n",
    "        if len(idxs) > 0:\n",
    "\n",
    "            for i in idxs.flatten():\n",
    "\n",
    "                \n",
    "                centerX, centerY = centers[i][0], centers[i][1]\n",
    "                \n",
    "                if centerX <= W/3:\n",
    "                    W_pos = \"left \"\n",
    "                elif centerX <= (W/3 * 2):\n",
    "                    W_pos = \"center \"\n",
    "                else:\n",
    "                    W_pos = \"right \"\n",
    "\n",
    "                if centerY <= H/3:\n",
    "                    H_pos = \"top\" \n",
    "                elif centerY <= (H/3 * 2):\n",
    "                    H_pos = \"mid \"\n",
    "                else:\n",
    "                    H_pos = \"bottom \"\n",
    "\n",
    "                texts.append(H_pos + W_pos + LABELS[classIDs[i]])\n",
    "\n",
    "    print(texts)"
   ]
  },
  {
   "cell_type": "code",
   "execution_count": 10,
   "metadata": {},
   "outputs": [
    {
     "name": "stdout",
     "output_type": "stream",
     "text": [
      "['bottom center car', 'bottom left car', 'bottom left car', 'bottom right car', 'bottom center car', 'bottom left car', 'mid right traffic light', 'bottom left truck', 'bottom left car']\n"
     ]
    }
   ],
   "source": [
    "take_photo('C:/Users/GAURA/Desktop/Year_project/testing/images/test2.png')"
   ]
  },
  {
   "cell_type": "code",
   "execution_count": null,
   "metadata": {},
   "outputs": [],
   "source": []
  }
 ],
 "metadata": {
  "kernelspec": {
   "display_name": "Python 3",
   "language": "python",
   "name": "python3"
  },
  "language_info": {
   "codemirror_mode": {
    "name": "ipython",
    "version": 3
   },
   "file_extension": ".py",
   "mimetype": "text/x-python",
   "name": "python",
   "nbconvert_exporter": "python",
   "pygments_lexer": "ipython3",
   "version": "3.7.1"
  }
 },
 "nbformat": 4,
 "nbformat_minor": 4
}
