{
 "cells": [
  {
   "cell_type": "code",
   "execution_count": 1,
   "metadata": {},
   "outputs": [],
   "source": [
    "import numpy as np\n",
    "import time\n",
    "import cv2\n",
    "import os\n",
    "import subprocess"
   ]
  },
  {
   "cell_type": "code",
   "execution_count": 5,
   "metadata": {},
   "outputs": [
    {
     "name": "stdout",
     "output_type": "stream",
     "text": [
      "[INFO] loading YOLO from disk...\n"
     ]
    }
   ],
   "source": [
    "LABELS = open(\"coco.names\").read().strip().split(\"\\n\")\n",
    "\n",
    "\n",
    "print(\"[INFO] loading YOLO from disk...\")\n",
    "net = cv2.dnn.readNetFromDarknet(\"yolov3.cfg\", \"yolov3.weights\")\n",
    "\n",
    "\n",
    "ln = net.getLayerNames()\n",
    "ln = [ln[i[0] - 1] for i in net.getUnconnectedOutLayers()]"
   ]
  },
  {
   "cell_type": "code",
   "execution_count": 6,
   "metadata": {},
   "outputs": [],
   "source": [
    "import imageio\n",
    "from PIL import Image"
   ]
  },
  {
   "cell_type": "code",
   "execution_count": 29,
   "metadata": {},
   "outputs": [],
   "source": [
    "def take_photo(imagepath):\n",
    "    frame = imageio.imread(imagepath)\n",
    "# print(frame.shape)\n",
    "    (H, W) = frame.shape[:2]\n",
    "#     print(H, W)\n",
    "    blob = cv2.dnn.blobFromImage(frame, 1 / 255.0, (416, 416),\n",
    "    swapRB=True, crop=False)\n",
    "    net.setInput(blob)\n",
    "    layerOutputs = net.forward(ln)\n",
    "\n",
    "\n",
    "    boxes = []\n",
    "    confidences = []\n",
    "    classIDs = []\n",
    "    centers = []\n",
    "\n",
    "# loop over each of the layer outputs\n",
    "    for output in layerOutputs:\n",
    "# loop over each of the detections\n",
    "\n",
    "\n",
    "        for detection in output:\n",
    "\n",
    "\n",
    "            scores = detection[5:]\n",
    "            classID = np.argmax(scores)\n",
    "            confidence = scores[classID]\n",
    "\n",
    "       \n",
    "            if confidence > 0.5:\n",
    "\n",
    "                        box = detection[0:4] * np.array([W, H, W, H])\n",
    "                        (centerX, centerY, width, height) = box.astype(\"int\")\n",
    "\n",
    "\n",
    "                        x = int(centerX - (width / 2))\n",
    "                        y = int(centerY - (height / 2))\n",
    "\n",
    "\n",
    "                        boxes.append([x, y, int(width), int(height)])\n",
    "                        confidences.append(float(confidence))\n",
    "                        classIDs.append(classID)\n",
    "                        centers.append((centerX, centerY))\n",
    "\n",
    "\n",
    "        idxs = cv2.dnn.NMSBoxes(boxes, confidences, 0.5, 0.3)\n",
    "        texts = []\n",
    "\n",
    "#         print(confidences)\n",
    "        if len(idxs) > 0:\n",
    "\n",
    "            for i in idxs.flatten():\n",
    "\n",
    "                \n",
    "                centerX, centerY = centers[i][0], centers[i][1]\n",
    "                if centerX <= W/3:\n",
    "                    W_pos = \"left \"\n",
    "                elif centerX <= (W/3 * 2):\n",
    "                    W_pos = \"center \"\n",
    "                else:\n",
    "                    W_pos = \"right \"\n",
    "\n",
    "                if centerY <= H/3:\n",
    "                    H_pos = \"top\" \n",
    "                elif centerY <= (H/3 * 2):\n",
    "                    H_pos = \"mid \"\n",
    "                else:\n",
    "                    H_pos = \"bottom \"\n",
    "\n",
    "                texts.append('H_pos + W_pos + {0} + {1} + {2} + {3} + {4}'.format(LABELS[classIDs[i]],confidences[i], centerX, centerY, boxes[i]))\n",
    "\n",
    "    return (texts)"
   ]
  },
  {
   "cell_type": "code",
   "execution_count": 30,
   "metadata": {},
   "outputs": [
    {
     "name": "stdout",
     "output_type": "stream",
     "text": [
      "['H_pos + W_pos + car + 0.999022364616394 + 282 + 352 + [228, 329, 107, 45]', 'H_pos + W_pos + car + 0.9932441115379333 + 99 + 337 + [83, 326, 31, 21]', 'H_pos + W_pos + car + 0.9931150078773499 + 127 + 339 + [107, 327, 40, 24]', 'H_pos + W_pos + car + 0.9911460876464844 + 429 + 358 + [363, 328, 131, 59]', 'H_pos + W_pos + car + 0.9906611442565918 + 213 + 346 + [171, 329, 84, 34]', 'H_pos + W_pos + car + 0.9846884608268738 + 160 + 339 + [134, 322, 51, 33]', 'H_pos + W_pos + traffic light + 0.9596837759017944 + 393 + 136 + [379, 106, 27, 60]', 'H_pos + W_pos + truck + 0.7612825632095337 + 49 + 337 + [11, 311, 75, 52]', 'H_pos + W_pos + car + 0.5574796795845032 + 5 + 332 + [0, 323, 9, 17]']\n"
     ]
    }
   ],
   "source": []
  },
  {
   "cell_type": "code",
   "execution_count": null,
   "metadata": {},
   "outputs": [],
   "source": []
  }
 ],
 "metadata": {
  "kernelspec": {
   "display_name": "Python 3",
   "language": "python",
   "name": "python3"
  },
  "language_info": {
   "codemirror_mode": {
    "name": "ipython",
    "version": 3
   },
   "file_extension": ".py",
   "mimetype": "text/x-python",
   "name": "python",
   "nbconvert_exporter": "python",
   "pygments_lexer": "ipython3",
   "version": "3.7.1"
  }
 },
 "nbformat": 4,
 "nbformat_minor": 4
}
